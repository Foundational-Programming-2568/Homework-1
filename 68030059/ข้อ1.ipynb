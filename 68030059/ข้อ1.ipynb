{
 "cells": [
  {
   "cell_type": "code",
   "execution_count": null,
   "id": "9170fb7d",
   "metadata": {
    "polyglot_notebook": {
     "kernelName": "csharp"
    }
   },
   "outputs": [
    {
     "name": "stdout",
     "output_type": "stream",
     "text": [
      "1, 2, 3, 4, 5, 6, 7, 8, 9, 10, 11, 12, 13, 14, 15, 16, 17, 18, 19, 20, 21, 22, 23, 24, 25, 26, 27, 28, 29, 30, 31, 32, 33, 34, 35, 36, 37, 38, 39, 40, 41, 42, 43, 44, 45, 46, 47, 48, 49, 50, 51, 52, 53, 54, 55, 56, 57, 58, 59, 60, 61, 62, 63, 64, 65, 66, 67, 68, 69, 70, 71, 72, 73, 74, 75, 76, 77, 78, 79, 80, 81, 82, 83, 84, 85, 86, 87, 88, 89, 90, 91, 92, 93, 94, 95, 96, 97, 98, 99, 100\r\n"
     ]
    }
   ],
   "source": [
    "var numbers = Enumerable.Range(1, 100).ToList();\n",
    "Console.WriteLine(string.Join(\", \", numbers));"
   ]
  },
  {
   "cell_type": "code",
   "execution_count": null,
   "id": "dc95c073",
   "metadata": {},
   "outputs": [],
   "source": [
    "var numbers = Enumerable.Range(1, 100).ToList();\n",
    "Console.WriteLine(string.Join(\", \", numbers));"
   ]
  },
  {
   "cell_type": "code",
   "execution_count": null,
   "id": "3d98fd97",
   "metadata": {},
   "outputs": [],
   "source": [
    "var oddNumbers = Enumerable.Range(1, 100).Where(n => n % 2 != 0).ToList();\n",
    "Console.WriteLine(\"เลขคี่ 1-100:\");\n",
    "Console.WriteLine(string.Join(\", \", oddNumbers));"
   ]
  },
  {
   "cell_type": "code",
   "execution_count": null,
   "id": "0eaf9936",
   "metadata": {},
   "outputs": [],
   "source": [
    "var evenNumbers = Enumerable.Range(1, 100).Where(n => n % 2 == 0).ToList();\n",
    "Console.WriteLine(\"\\nเลขคู่ 1-100:\");\n",
    "Console.WriteLine(string.Join(\", \", evenNumbers));"
   ]
  },
  {
   "cell_type": "code",
   "execution_count": null,
   "id": "b80b79d6",
   "metadata": {},
   "outputs": [
    {
     "name": "stdout",
     "output_type": "stream",
     "text": [
      "\n",
      "เลขจำนวนเฉพาะ 1-100:\n",
      "2, 3, 5, 7, 11, 13, 17, 19, 23, 29, 31, 37, 41, 43, 47, 53, 59, 61, 67, 71, 73, 79, 83, 89, 97\n"
     ]
    }
   ],
   "source": [
    "bool IsPrime(int n)\n",
    "{\n",
    "    if (n < 2) return false;\n",
    "    for (int i = 2; i <= Math.Sqrt(n); i++)\n",
    "        if (n % i == 0) return false;\n",
    "    return true;\n",
    "}\n",
    "var primeNumbers = Enumerable.Range(1, 100).Where(IsPrime).ToList();\n",
    "Console.WriteLine(\"\\nเลขจำนวนเฉพาะ 1-100:\");\n",
    "Console.WriteLine(string.Join(\", \", primeNumbers));"
   ]
  }
 ],
 "metadata": {
  "kernelspec": {
   "display_name": ".NET (C#)",
   "language": "C#",
   "name": ".net-csharp"
  },
  "polyglot_notebook": {
   "kernelInfo": {
    "defaultKernelName": "csharp",
    "items": [
     {
      "aliases": [],
      "languageName": "csharp",
      "name": "csharp"
     }
    ]
   }
  }
 },
 "nbformat": 4,
 "nbformat_minor": 5
}
