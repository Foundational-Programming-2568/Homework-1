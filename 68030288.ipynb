{
 "cells": [
  {
   "cell_type": "markdown",
   "id": "794d9ab2",
   "metadata": {},
   "source": [
    "ข้อ 1 ให้ใช้ AI สร้างโปรแกรมที่มีความสามารถต่อไปนี้ ใน Polyglot notebook"
   ]
  },
  {
   "cell_type": "code",
   "execution_count": null,
   "id": "a71fd3bb",
   "metadata": {
    "polyglot_notebook": {
     "kernelName": "csharp"
    }
   },
   "outputs": [
    {
     "name": "stdout",
     "output_type": "stream",
     "text": [
      "เลขคี่:\n",
      "1, 3, 5, 7, 9, 11, 13, 15, 17, 19, 21, 23, 25, 27, 29, 31, 33, 35, 37, 39, 41, 43, 45, 47, 49, 51, 53, 55, 57, 59, 61, 63, 65, 67, 69, 71, 73, 75, 77, 79, 81, 83, 85, 87, 89, 91, 93, 95, 97, 99\n",
      "\n",
      "เลขคู่:\n",
      "2, 4, 6, 8, 10, 12, 14, 16, 18, 20, 22, 24, 26, 28, 30, 32, 34, 36, 38, 40, 42, 44, 46, 48, 50, 52, 54, 56, 58, 60, 62, 64, 66, 68, 70, 72, 74, 76, 78, 80, 82, 84, 86, 88, 90, 92, 94, 96, 98, 100\n",
      "\n",
      "จำนวนเฉพาะ:\n",
      "2, 3, 5, 7, 11, 13, 17, 19, 23, 29, 31, 37, 41, 43, 47, 53, 59, 61, 67, 71, 73, 79, 83, 89, 97\n"
     ]
    }
   ],
   "source": [
    "// นับเลข 1 ถึง 100\n",
    "var numbers = Enumerable.Range(1, 100);\n",
    "\n",
    "// แสดงเฉพาะเลขคี่\n",
    "var oddNumbers = numbers.Where(n => n % 2 != 0);\n",
    "Console.WriteLine(\"เลขคี่:\");\n",
    "Console.WriteLine(string.Join(\", \", oddNumbers));\n",
    "\n",
    "// แสดงเฉพาะเลขคู่\n",
    "var evenNumbers = numbers.Where(n => n % 2 == 0);\n",
    "Console.WriteLine(\"\\nเลขคู่:\");\n",
    "Console.WriteLine(string.Join(\", \", evenNumbers));\n",
    "\n",
    "// ฟังก์ชันเช็คว่าเป็นจำนวนเฉพาะหรือไม่\n",
    "bool IsPrime(int number)\n",
    "{\n",
    "    if (number < 2) return false;\n",
    "    for (int i = 2; i <= Math.Sqrt(number); i++)\n",
    "    {\n",
    "        if (number % i == 0)\n",
    "            return false;\n",
    "    }\n",
    "    return true;\n",
    "}\n",
    "\n",
    "// แสดงเฉพาะเลขจำนวนเฉพาะ\n",
    "var primeNumbers = numbers.Where(IsPrime);\n",
    "Console.WriteLine(\"\\nจำนวนเฉพาะ:\");\n",
    "Console.WriteLine(string.Join(\", \", primeNumbers));"
   ]
  },
  {
   "cell_type": "markdown",
   "id": "85085c84",
   "metadata": {},
   "source": [
    "ข้อ 2 ให้ใช้ AI สร้างโปรแกรมที่มีความสามารถต่อไปนี้ ใน Polyglot notebook"
   ]
  },
  {
   "cell_type": "code",
   "execution_count": null,
   "id": "b649061d",
   "metadata": {
    "polyglot_notebook": {
     "kernelName": "csharp"
    }
   },
   "outputs": [
    {
     "name": "stdout",
     "output_type": "stream",
     "text": [
      "อายุ 25: คุณอยู่ในช่วงวัย: วัยผู้ใหญ่\n",
      "อายุ 2: คุณอยู่ในช่วงวัย: เด็ก\n",
      "อายุ 60: คุณอยู่ในช่วงวัย: วัยชรา\n",
      "อายุ 18: คุณอยู่ในช่วงวัย: วัยรุ่น\n",
      "อายุ 34: คุณอยู่ในช่วงวัย: วัยผู้ใหญ่\n",
      "อายุ 47: คุณอยู่ในช่วงวัย: วัยผู้ใหญ่\n"
     ]
    }
   ],
   "source": [
    "int[] ages = { 25, 2, 60,18,34,47 }; // เปลี่ยนอายุตรงนี้ตามต้องการ\n",
    "\n",
    "foreach (int age in ages)\n",
    "{\n",
    "    Console.Write($\"อายุ {age}: \");\n",
    "\n",
    "    if (age >= 1 && age <= 12)\n",
    "        Console.WriteLine(\"คุณอยู่ในช่วงวัย: เด็ก\");\n",
    "    else if (age >= 13 && age <= 19)\n",
    "        Console.WriteLine(\"คุณอยู่ในช่วงวัย: วัยรุ่น\");\n",
    "    else if (age >= 20 && age <= 50)\n",
    "        Console.WriteLine(\"คุณอยู่ในช่วงวัย: วัยผู้ใหญ่\");\n",
    "    else if (age >= 51)\n",
    "        Console.WriteLine(\"คุณอยู่ในช่วงวัย: วัยชรา\");\n",
    "    else\n",
    "        Console.WriteLine(\"อายุต้องมากกว่า 0\");\n",
    "}"
   ]
  }
 ],
 "metadata": {
  "kernelspec": {
   "display_name": ".NET (C#)",
   "language": "C#",
   "name": ".net-csharp"
  },
  "polyglot_notebook": {
   "kernelInfo": {
    "defaultKernelName": "csharp",
    "items": [
     {
      "aliases": [],
      "languageName": "csharp",
      "name": "csharp"
     }
    ]
   }
  }
 },
 "nbformat": 4,
 "nbformat_minor": 5
}
