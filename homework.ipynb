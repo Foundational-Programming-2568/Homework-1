{
 "cells": [
  {
   "cell_type": "code",
   "execution_count": 3,
   "id": "cdd2e486",
   "metadata": {
    "vscode": {
     "languageId": "polyglot-notebook"
    }
   },
   "outputs": [
    {
     "name": "stdout",
     "output_type": "stream",
     "text": [
      "เลขคี่: 1, 3, 5, 7, 9, 11, 13, 15, 17, 19, 21, 23, 25, 27, 29, 31, 33, 35, 37, 39, 41, 43, 45, 47, 49, 51, 53, 55, 57, 59, 61, 63, 65, 67, 69, 71, 73, 75, 77, 79, 81, 83, 85, 87, 89, 91, 93, 95, 97, 99\n",
      "เลขคู่: 2, 4, 6, 8, 10, 12, 14, 16, 18, 20, 22, 24, 26, 28, 30, 32, 34, 36, 38, 40, 42, 44, 46, 48, 50, 52, 54, 56, 58, 60, 62, 64, 66, 68, 70, 72, 74, 76, 78, 80, 82, 84, 86, 88, 90, 92, 94, 96, 98, 100\n",
      "เลขจำนวนเฉพาะ: 2, 3, 5, 7, 11, 13, 17, 19, 23, 29, 31, 37, 41, 43, 47, 53, 59, 61, 67, 71, 73, 79, 83, 89, 97\n"
     ]
    }
   ],
   "source": [
    "// แสดงเลข 1-100 เฉพาะเลขคี่\n",
    "var oddNumbers = Enumerable.Range(1, 100).Where(i => i % 2 == 1).ToList();\n",
    "Console.WriteLine(\"เลขคี่: \" + string.Join(\", \", oddNumbers));\n",
    "\n",
    "// แสดงเลข 1-100 เฉพาะเลขคู่\n",
    "var evenNumbers = Enumerable.Range(1, 100).Where(i => i % 2 == 0).ToList();\n",
    "Console.WriteLine(\"เลขคู่: \" + string.Join(\", \", evenNumbers));\n",
    "\n",
    "// แสดงเลข 1-100 เฉพาะเลขจำนวนเฉพาะ\n",
    "bool IsPrime(int n)\n",
    "{\n",
    "    if (n < 2) return false;\n",
    "    for (int j = 2; j <= Math.Sqrt(n); j++)\n",
    "        if (n % j == 0) return false;\n",
    "    return true;\n",
    "}\n",
    "var primeNumbers = Enumerable.Range(1, 100).Where(IsPrime).ToList();\n",
    "Console.WriteLine(\"เลขจำนวนเฉพาะ: \" + string.Join(\", \", primeNumbers));"
   ]
  },
  {
   "cell_type": "code",
   "execution_count": null,
   "id": "7d78c308",
   "metadata": {
    "vscode": {
     "languageId": "ini"
    }
   },
   "outputs": [],
   "source": [
    "Console.Write(\"กรุณากรอกอายุ: \");\n",
    "int age = int.Parse(Console.ReadLine());\n",
    "\n",
    "string category;\n",
    "if (age >= 1 && age <= 12)\n",
    "    category = \"เด็ก\";\n",
    "else if (age >= 13 && age <= 19)\n",
    "    category = \"วัยรุ่น\";\n",
    "else if (age >= 20 && age <= 50)\n",
    "    category = \"วัยผู้ใหญ่\";\n",
    "else if (age >= 51)\n",
    "    category = \"วัยชรา\";\n",
    "else\n",
    "    category = \"อายุไม่ถูกต้อง\";\n",
    "\n",
    "Console.WriteLine($\"คุณอยู่ในช่วง: {category}\");"
   ]
  }
 ],
 "metadata": {
  "kernelspec": {
   "display_name": ".NET (C#)",
   "language": "C#",
   "name": ".net-csharp"
  },
  "language_info": {
   "name": "python"
  },
  "polyglot_notebook": {
   "kernelInfo": {
    "defaultKernelName": "csharp",
    "items": [
     {
      "aliases": [],
      "name": "csharp"
     }
    ]
   }
  }
 },
 "nbformat": 4,
 "nbformat_minor": 5
}
