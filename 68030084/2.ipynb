{
 "cells": [
  {
   "cell_type": "code",
   "execution_count": null,
   "id": "4d408130",
   "metadata": {
    "vscode": {
     "languageId": "polyglot-notebook"
    }
   },
   "outputs": [
    {
     "name": "stdout",
     "output_type": "stream",
     "text": [
      "วัยผู้ใหญ่\r\n"
     ]
    }
   ],
   "source": [
    "using System;\n",
    "\n",
    "class Program\n",
    "{\n",
    "    static void Main()\n",
    "    {\n",
    "        Console.Write(\"กรุณากรอกอายุ: \");\n",
    "        string input = Console.ReadLine();\n",
    "        \n",
    "        if (int.TryParse(input, out int age))\n",
    "        {\n",
    "            if (age >= 1 && age <= 12)\n",
    "                Console.WriteLine(\"เด็ก\");\n",
    "            else if (age >= 13 && age <= 19)\n",
    "                Console.WriteLine(\"วัยรุ่น\");\n",
    "            else if (age >= 20 && age <= 50)\n",
    "                Console.WriteLine(\"วัยผู้ใหญ่\");\n",
    "            else if (age >= 51)\n",
    "                Console.WriteLine(\"วัยชรา\");\n",
    "            else\n",
    "                Console.WriteLine(\"กรุณากรอกอายุที่ถูกต้อง\");\n",
    "        }\n",
    "        else\n",
    "        {\n",
    "            Console.WriteLine(\"รูปแบบข้อมูลไม่ถูกต้อง กรุณากรอกตัวเลข\");\n",
    "        }\n",
    "    }\n",
    "}"
   ]
  },
  {
   "cell_type": "markdown",
   "id": "8888d3ba",
   "metadata": {},
   "source": [
    "![img](/Homework-1/Screenshot%202025-06-11%20162429.png)"
   ]
  }
 ],
 "metadata": {
  "kernelspec": {
   "display_name": ".NET (C#)",
   "language": "C#",
   "name": ".net-csharp"
  },
  "language_info": {
   "name": "csharp"
  },
  "polyglot_notebook": {
   "kernelInfo": {
    "defaultKernelName": "csharp",
    "items": [
     {
      "aliases": [],
      "name": "csharp"
     }
    ]
   }
  }
 },
 "nbformat": 4,
 "nbformat_minor": 5
}
