{
 "cells": [
  {
   "cell_type": "code",
   "execution_count": 1,
   "id": "04c77c18",
   "metadata": {
    "polyglot_notebook": {
     "kernelName": "csharp"
    },
    "vscode": {
     "languageId": "polyglot-notebook"
    }
   },
   "outputs": [
    {
     "name": "stdout",
     "output_type": "stream",
     "text": [
      "เลขคี่:\n",
      "1, 3, 5, 7, 9, 11, 13, 15, 17, 19, 21, 23, 25, 27, 29, 31, 33, 35, 37, 39, 41, 43, 45, 47, 49, 51, 53, 55, 57, 59, 61, 63, 65, 67, 69, 71, 73, 75, 77, 79, 81, 83, 85, 87, 89, 91, 93, 95, 97, 99\n",
      "\n",
      "เลขคู่:\n",
      "2, 4, 6, 8, 10, 12, 14, 16, 18, 20, 22, 24, 26, 28, 30, 32, 34, 36, 38, 40, 42, 44, 46, 48, 50, 52, 54, 56, 58, 60, 62, 64, 66, 68, 70, 72, 74, 76, 78, 80, 82, 84, 86, 88, 90, 92, 94, 96, 98, 100\n",
      "\n",
      "เลขจำนวนเฉพาะ:\n",
      "2, 3, 5, 7, 11, 13, 17, 19, 23, 29, 31, 37, 41, 43, 47, 53, 59, 61, 67, 71, 73, 79, 83, 89, 97\n"
     ]
    }
   ],
   "source": [
    "using System;\n",
    "using System.Collections.Generic;\n",
    "\n",
    "// นับเลข 1 – 100\n",
    "var numbers = new List<int>();\n",
    "for (int i = 1; i <= 100; i++)\n",
    "{\n",
    "    numbers.Add(i);\n",
    "}\n",
    "\n",
    "// แสดงเฉพาะเลขคี่\n",
    "var oddNumbers = numbers.FindAll(n => n % 2 != 0);\n",
    "Console.WriteLine(\"เลขคี่:\");\n",
    "Console.WriteLine(string.Join(\", \", oddNumbers));\n",
    "\n",
    "// แสดงเฉพาะเลขคู่\n",
    "var evenNumbers = numbers.FindAll(n => n % 2 == 0);\n",
    "Console.WriteLine(\"\\nเลขคู่:\");\n",
    "Console.WriteLine(string.Join(\", \", evenNumbers));\n",
    "\n",
    "// แสดงเฉพาะเลขจำนวนเฉพาะ\n",
    "bool IsPrime(int n)\n",
    "{\n",
    "    if (n < 2) return false;\n",
    "    for (int i = 2; i <= Math.Sqrt(n); i++)\n",
    "        if (n % i == 0) return false;\n",
    "    return true;\n",
    "}\n",
    "var primeNumbers = numbers.FindAll(IsPrime);\n",
    "Console.WriteLine(\"\\nเลขจำนวนเฉพาะ:\");\n",
    "Console.WriteLine(string.Join(\", \", primeNumbers));"
   ]
  },
  {
   "cell_type": "code",
   "execution_count": null,
   "metadata": {
    "polyglot_notebook": {
     "kernelName": "csharp"
    },
    "vscode": {
     "languageId": "polyglot-notebook"
    }
   },
   "outputs": [],
   "source": [
    "Console.Write(\"กรุณากรอกอายุ: \");\n",
    "int age = int.Parse(Console.ReadLine());\n",
    "\n",
    "if (age >= 1 && age <= 12)\n",
    "{\n",
    "    Console.WriteLine(\"เด็ก\");\n",
    "}\n",
    "else if (age >= 13 && age <= 19)\n",
    "{\n",
    "    Console.WriteLine(\"วัยรุ่น\");\n",
    "}\n",
    "else if (age >= 20 && age <= 50)\n",
    "{\n",
    "    Console.WriteLine(\"วัยผู้ใหญ่\");\n",
    "}\n",
    "else if (age >= 51)\n",
    "{\n",
    "    Console.WriteLine(\"วัยชรา\");\n",
    "}\n",
    "else\n",
    "{\n",
    "    Console.WriteLine(\"กรุณากรอกอายุที่ถูกต้อง\");\n",
    "}"
   ]
  }
 ],
 "metadata": {
  "kernelspec": {
   "display_name": ".NET (C#)",
   "language": "C#",
   "name": ".net-csharp"
  },
  "language_info": {
   "name": "python"
  },
  "polyglot_notebook": {
   "kernelInfo": {
    "defaultKernelName": "csharp",
    "items": [
     {
      "aliases": [],
      "name": "csharp"
     }
    ]
   }
  }
 },
 "nbformat": 4,
 "nbformat_minor": 5
}
