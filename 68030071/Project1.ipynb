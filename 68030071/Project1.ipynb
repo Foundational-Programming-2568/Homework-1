{
 "cells": [
  {
   "cell_type": "code",
   "execution_count": null,
   "id": "02289f31",
   "metadata": {},
   "outputs": [],
   "source": [
    "// แสดงเลขคี่ 1-100\n",
    "Console.WriteLine(\"เลขคี่ 1-100:\");\n",
    "for (int i = 1; i <= 100; i++)\n",
    "{\n",
    "    if (i % 2 != 0)\n",
    "        Console.Write(i + \" \");\n",
    "}\n",
    "Console.WriteLine(\"\\n\");\n",
    "\n",
    "// แสดงเลขคู่ 1-100\n",
    "Console.WriteLine(\"เลขคู่ 1-100:\");\n",
    "for (int i = 1; i <= 100; i++)\n",
    "{\n",
    "    if (i % 2 == 0)\n",
    "        Console.Write(i + \" \");\n",
    "}\n",
    "Console.WriteLine(\"\\n\");\n",
    "\n",
    "// แสดงเลขจำนวนเฉพาะ 1-100\n",
    "Console.WriteLine(\"เลขจำนวนเฉพาะ 1-100:\");\n",
    "for (int i = 2; i <= 100; i++)\n",
    "{\n",
    "    bool isPrime = true;\n",
    "    for (int j = 2; j <= Math.Sqrt(i); j++)\n",
    "    {\n",
    "        if (i % j == 0)\n",
    "        {\n",
    "            isPrime = false;\n",
    "            break;\n",
    "        }\n",
    "    }\n",
    "    if (isPrime)\n",
    "        Console.Write(i + \" \");\n",
    "}\n",
    "Console.WriteLine();"
   ]
  }
 ],
 "metadata": {
  "language_info": {
   "name": "csharp"
  }
 },
 "nbformat": 4,
 "nbformat_minor": 5
}
