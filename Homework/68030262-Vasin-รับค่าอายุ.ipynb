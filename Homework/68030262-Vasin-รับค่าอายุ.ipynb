{
 "cells": [
  {
   "cell_type": "code",
   "execution_count": null,
   "id": "02532be7",
   "metadata": {
    "polyglot_notebook": {
     "kernelName": "csharp"
    }
   },
   "outputs": [
    {
     "name": "stdout",
     "output_type": "stream",
     "text": [
      "อายุที่สุ่มได้คือ: 72\n",
      "คุณอยู่ในช่วง: วัยชรา\n"
     ]
    }
   ],
   "source": [
    "\n",
    "        Random rand = new Random();\n",
    "        int age = rand.Next(1, 101); // สุ่มอายุระหว่าง 1 ถึง 100\n",
    "\n",
    "        Console.WriteLine($\"อายุที่สุ่มได้คือ: {age}\");\n",
    "\n",
    "        if (age >= 1 && age <= 12)\n",
    "        {\n",
    "            Console.WriteLine(\"คุณอยู่ในช่วง: เด็ก\");\n",
    "        }\n",
    "        else if (age >= 13 && age <= 19)\n",
    "        {\n",
    "            Console.WriteLine(\"คุณอยู่ในช่วง: วัยรุ่น\");\n",
    "        }\n",
    "        else if (age >= 20 && age <= 50)\n",
    "        {\n",
    "            Console.WriteLine(\"คุณอยู่ในช่วง: วัยผู้ใหญ่\");\n",
    "        }\n",
    "        else if (age >= 51)\n",
    "        {\n",
    "            Console.WriteLine(\"คุณอยู่ในช่วง: วัยชรา\");\n",
    "        }\n"
   ]
  }
 ],
 "metadata": {
  "kernelspec": {
   "display_name": ".NET (C#)",
   "language": "C#",
   "name": ".net-csharp"
  },
  "polyglot_notebook": {
   "kernelInfo": {
    "defaultKernelName": "csharp",
    "items": [
     {
      "aliases": [],
      "languageName": "csharp",
      "name": "csharp"
     }
    ]
   }
  }
 },
 "nbformat": 4,
 "nbformat_minor": 5
}
