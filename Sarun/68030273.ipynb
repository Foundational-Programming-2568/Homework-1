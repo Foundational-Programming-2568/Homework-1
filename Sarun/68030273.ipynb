{
 "cells": [
  {
   "cell_type": "code",
   "execution_count": null,
   "id": "45f80962",
   "metadata": {
    "vscode": {
     "languageId": "ini"
    }
   },
   "outputs": [],
   "source": [
    "# นับเลข 1 – 100 และแสดงผลตามเงื่อนไข\n",
    "divisible_by_5 = [i for i in range(1, 101) if i % 5 == 0]\n",
    "print(\"เลขที่หารด้วย 5 ลงตัว 1-100:\", divisible_by_5)\n",
    "\n",
    "# แสดงเลขคี่\n",
    "odd_numbers = [i for i in range(1, 101) if i % 2 == 1]\n",
    "print(\"เลขคี่ 1-100:\", odd_numbers)\n",
    "\n",
    "# แสดงเลขคู่\n",
    "even_numbers = [i for i in range(1, 101) if i % 2 == 0]\n",
    "print(\"เลขคู่ 1-100:\", even_numbers)\n",
    "\n",
    "# แสดงเลขจำนวนเฉพาะ\n",
    "def is_prime(n):\n",
    "    if n < 2:\n",
    "        return False\n",
    "    for j in range(2, int(n**0.5) + 1):\n",
    "        if n % j == 0:\n",
    "            return False\n",
    "    return True\n",
    "\n",
    "prime_numbers = [i for i in range(1, 101) if is_prime(i)]\n",
    "print(\"เลขจำนวนเฉพาะ 1-100:\", prime_numbers)"
   ]
  }
 ],
 "metadata": {
  "language_info": {
   "name": "csharp"
  }
 },
 "nbformat": 4,
 "nbformat_minor": 5
}
