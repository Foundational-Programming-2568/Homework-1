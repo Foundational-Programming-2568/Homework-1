{
 "cells": [
  {
   "cell_type": "markdown",
   "id": "af525b5f",
   "metadata": {},
   "source": [
    "# ข้อ1"
   ]
  },
  {
   "cell_type": "code",
   "execution_count": 1,
   "id": "aa38459f",
   "metadata": {
    "vscode": {
     "languageId": "polyglot-notebook"
    }
   },
   "outputs": [
    {
     "name": "stdout",
     "output_type": "stream",
     "text": [
      "เลข 1-100:\n",
      "1 2 3 4 5 6 7 8 9 10 11 12 13 14 15 16 17 18 19 20 21 22 23 24 25 26 27 28 29 30 31 32 33 34 35 36 37 38 39 40 41 42 43 44 45 46 47 48 49 50 51 52 53 54 55 56 57 58 59 60 61 62 63 64 65 66 67 68 69 70 71 72 73 74 75 76 77 78 79 80 81 82 83 84 85 86 87 88 89 90 91 92 93 94 95 96 97 98 99 100 \n",
      "\n",
      "เลขคี่ 1-100:\n",
      "1 3 5 7 9 11 13 15 17 19 21 23 25 27 29 31 33 35 37 39 41 43 45 47 49 51 53 55 57 59 61 63 65 67 69 71 73 75 77 79 81 83 85 87 89 91 93 95 97 99 \n",
      "\n",
      "เลขคู่ 1-100:\n",
      "2 4 6 8 10 12 14 16 18 20 22 24 26 28 30 32 34 36 38 40 42 44 46 48 50 52 54 56 58 60 62 64 66 68 70 72 74 76 78 80 82 84 86 88 90 92 94 96 98 100 \n",
      "\n",
      "เลขจำนวนเฉพาะ 1-100:\n",
      "2 3 5 7 11 13 17 19 23 29 31 37 41 43 47 53 59 61 67 71 73 79 83 89 97 \n"
     ]
    }
   ],
   "source": [
    "// นับเลข 1 – 100\n",
    "Console.WriteLine(\"เลข 1-100:\");\n",
    "for (int i = 1; i <= 100; i++)\n",
    "{\n",
    "    Console.Write($\"{i} \");\n",
    "}\n",
    "Console.WriteLine(\"\\n\");\n",
    "\n",
    "// แสดงเฉพาะเลขคี่\n",
    "Console.WriteLine(\"เลขคี่ 1-100:\");\n",
    "for (int i = 1; i <= 100; i++)\n",
    "{\n",
    "    if (i % 2 != 0)\n",
    "        Console.Write($\"{i} \");\n",
    "}\n",
    "Console.WriteLine(\"\\n\");\n",
    "\n",
    "// แสดงเฉพาะเลขคู่\n",
    "Console.WriteLine(\"เลขคู่ 1-100:\");\n",
    "for (int i = 1; i <= 100; i++)\n",
    "{\n",
    "    if (i % 2 == 0)\n",
    "        Console.Write($\"{i} \");\n",
    "}\n",
    "Console.WriteLine(\"\\n\");\n",
    "\n",
    "// แสดงเฉพาะเลขจำนวนเฉพาะ\n",
    "Console.WriteLine(\"เลขจำนวนเฉพาะ 1-100:\");\n",
    "for (int i = 2; i <= 100; i++)\n",
    "{\n",
    "    bool isPrime = true;\n",
    "    for (int j = 2; j <= Math.Sqrt(i); j++)\n",
    "    {\n",
    "        if (i % j == 0)\n",
    "        {\n",
    "            isPrime = false;\n",
    "            break;\n",
    "        }\n",
    "    }\n",
    "    if (isPrime)\n",
    "        Console.Write($\"{i} \");\n",
    "}\n",
    "Console.WriteLine();"
   ]
  },
  {
   "cell_type": "markdown",
   "id": "6caffbee",
   "metadata": {},
   "source": [
    "# ข้อ2"
   ]
  },
  {
   "cell_type": "markdown",
   "id": "df70c7d1",
   "metadata": {},
   "source": [
    "![alt text](<Screenshot 2025-06-11 155455.png>)"
   ]
  }
 ],
 "metadata": {
  "kernelspec": {
   "display_name": ".NET (C#)",
   "language": "C#",
   "name": ".net-csharp"
  },
  "language_info": {
   "name": "csharp"
  },
  "polyglot_notebook": {
   "kernelInfo": {
    "defaultKernelName": "csharp",
    "items": [
     {
      "aliases": [],
      "name": "csharp"
     }
    ]
   }
  }
 },
 "nbformat": 4,
 "nbformat_minor": 5
}
