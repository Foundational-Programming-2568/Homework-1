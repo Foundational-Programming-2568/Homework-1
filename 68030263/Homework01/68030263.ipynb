{
 "cells": [
  {
   "cell_type": "markdown",
   "id": "d73f2227",
   "metadata": {},
   "source": [
    "# แบบฝึกหัดที่ 1\n",
    "## ข้อ 1 ให้ใช้ AI สร้างโปรแกรมที่มีความสามารถต่อไปนี้ ใน Polyglot notebook"
   ]
  },
  {
   "cell_type": "code",
   "execution_count": null,
   "id": "26156ce8",
   "metadata": {
    "polyglot_notebook": {
     "kernelName": "csharp"
    }
   },
   "outputs": [
    {
     "name": "stdout",
     "output_type": "stream",
     "text": [
      "เลขคี่ 1 - 100:\n",
      "1 3 5 7 9 11 13 15 17 19 21 23 25 27 29 31 33 35 37 39 41 43 45 47 49 51 53 55 57 59 61 63 65 67 69 71 73 75 77 79 81 83 85 87 89 91 93 95 97 99 \n",
      "\n",
      "เลขคู่ 1 - 100:\n",
      "2 4 6 8 10 12 14 16 18 20 22 24 26 28 30 32 34 36 38 40 42 44 46 48 50 52 54 56 58 60 62 64 66 68 70 72 74 76 78 80 82 84 86 88 90 92 94 96 98 100 \n",
      "\n",
      "เลขจำนวนเฉพาะ 1 - 100:\n",
      "2 3 5 7 11 13 17 19 23 29 31 37 41 43 47 53 59 61 67 71 73 79 83 89 97 \n"
     ]
    }
   ],
   "source": [
    "// - แสดงเฉพาะเลขคี่\n",
    "Console.WriteLine(\"เลขคี่ 1 - 100:\");\n",
    "for (int i = 1; i <= 100; i++)\n",
    "{\n",
    "    if (i % 2 != 0)\n",
    "        Console.Write($\"{i} \");\n",
    "}\n",
    "Console.WriteLine(\"\\n\");\n",
    "\n",
    "// - แสดงเฉพาะเลขคู่\n",
    "Console.WriteLine(\"เลขคู่ 1 - 100:\");\n",
    "for (int i = 1; i <= 100; i++)\n",
    "{\n",
    "    if (i % 2 == 0)\n",
    "        Console.Write($\"{i} \");\n",
    "}\n",
    "Console.WriteLine(\"\\n\");\n",
    "\n",
    "// - แสดงเฉพาะเลขจำนวนเฉพาะ\n",
    "bool IsPrime(int n)\n",
    "{\n",
    "    if (n < 2) return false;\n",
    "    for (int j = 2; j * j <= n; j++)\n",
    "        if (n % j == 0)\n",
    "            return false;\n",
    "    return true;\n",
    "}\n",
    "\n",
    "Console.WriteLine(\"เลขจำนวนเฉพาะ 1 - 100:\");\n",
    "for (int i = 1; i <= 100; i++)\n",
    "{\n",
    "    if (IsPrime(i))\n",
    "        Console.Write($\"{i} \");\n",
    "}\n",
    "Console.WriteLine();"
   ]
  },
  {
   "cell_type": "markdown",
   "id": "7643be84",
   "metadata": {},
   "source": [
    "## ข้อ 2 ให้ใช้ AI สร้างโปรแกรมที่มีความสามารถต่อไปนี้ ใน Polyglot notebook\n",
    "##### เลขทดสอบ int[] ages = { 2, 80, 23, 19, 5, 40, 54, 13 };"
   ]
  },
  {
   "cell_type": "markdown",
   "id": "de3296c0",
   "metadata": {},
   "source": []
  },
  {
   "cell_type": "code",
   "execution_count": null,
   "id": "58985629",
   "metadata": {
    "polyglot_notebook": {
     "kernelName": "csharp"
    }
   },
   "outputs": [
    {
     "name": "stdout",
     "output_type": "stream",
     "text": [
      "อายุ\tกลุ่มอายุ\n",
      "2\tเด็ก\n",
      "80\tวัยชรา\n",
      "23\tวัยผู้ใหญ่\n",
      "19\tวัยรุ่น\n",
      "5\tเด็ก\n",
      "40\tวัยผู้ใหญ่\n",
      "54\tวัยชรา\n",
      "13\tวัยรุ่น\n"
     ]
    }
   ],
   "source": [
    "int[] ages = { 2, 80, 23, 19, 5, 40, 54, 13 };\n",
    "\n",
    "// ฟังก์ชันแยกกลุ่มอายุ\n",
    "string GetAgeGroup(int age)\n",
    "{\n",
    "    if (age >= 1 && age <= 12)\n",
    "        return \"เด็ก\";\n",
    "    else if (age >= 13 && age <= 19)\n",
    "        return \"วัยรุ่น\";\n",
    "    else if (age >= 20 && age <= 50)\n",
    "        return \"วัยผู้ใหญ่\";\n",
    "    else if (age >= 51)\n",
    "        return \"วัยชรา\";\n",
    "    else\n",
    "        return \"อายุไม่ถูกต้อง\";\n",
    "}\n",
    "\n",
    "// แสดงผล\n",
    "Console.WriteLine(\"อายุ\\tกลุ่มอายุ\");\n",
    "foreach (var age in ages)\n",
    "{\n",
    "    Console.WriteLine($\"{age}\\t{GetAgeGroup(age)}\");\n",
    "}"
   ]
  }
 ],
 "metadata": {
  "kernelspec": {
   "display_name": ".NET (C#)",
   "language": "C#",
   "name": ".net-csharp"
  },
  "polyglot_notebook": {
   "kernelInfo": {
    "defaultKernelName": "csharp",
    "items": [
     {
      "aliases": [],
      "languageName": "csharp",
      "name": "csharp"
     }
    ]
   }
  }
 },
 "nbformat": 4,
 "nbformat_minor": 5
}
