{
 "cells": [
  {
   "cell_type": "markdown",
   "id": "81569f3c",
   "metadata": {},
   "source": [
    "# บทที่ 1 ภาษา C# เบื้องต้น"
   ]
  },
  {
   "cell_type": "markdown",
   "id": "7acf3283",
   "metadata": {},
   "source": [
    "# รับค่าอายุ"
   ]
  },
  {
   "cell_type": "code",
   "execution_count": 3,
   "metadata": {
    "polyglot_notebook": {
     "kernelName": "csharp"
    },
    "vscode": {
     "languageId": "polyglot-notebook"
    }
   },
   "outputs": [
    {
     "name": "stdout",
     "output_type": "stream",
     "text": [
      "กรุณาใส่อายุของคุณ: กรุณาใส่ตัวเลขเท่านั้น\n"
     ]
    }
   ],
   "source": [
    "\n",
    "    {\n",
    "        System.Console.Write(\"กรุณาใส่อายุของคุณ: \");\n",
    "        string input = System.Console.ReadLine();\n",
    "\n",
    "        if (int.TryParse(input, out int age))\n",
    "        {\n",
    "            if (age >= 1 && age <= 12)\n",
    "            {\n",
    "                System.Console.WriteLine(\"กลุ่ม: เด็ก\");\n",
    "            }\n",
    "            else if (age >= 13 && age <= 19)\n",
    "            {\n",
    "                System.Console.WriteLine(\"กลุ่ม: วัยรุ่น\");\n",
    "            }\n",
    "            else if (age >= 20 && age <= 50)\n",
    "            {\n",
    "                System.Console.WriteLine(\"กลุ่ม: วัยผู้ใหญ่\");\n",
    "            }\n",
    "            else if (age >= 51)\n",
    "            {\n",
    "                System.Console.WriteLine(\"กลุ่ม: วัยชรา\");\n",
    "            }\n",
    "            else\n",
    "            {\n",
    "                System.Console.WriteLine(\"อายุต้องมากกว่า 0\");\n",
    "            }\n",
    "        }\n",
    "        else\n",
    "        {\n",
    "            System.Console.WriteLine(\"กรุณาใส่ตัวเลขเท่านั้น\");\n",
    "        }\n",
    "    }\n",
    "\n"
   ]
  }
 ],
 "metadata": {
  "kernelspec": {
   "display_name": ".NET (C#)",
   "language": "C#",
   "name": ".net-csharp"
  },
  "language_info": {
   "name": "csharp"
  },
  "polyglot_notebook": {
   "kernelInfo": {
    "defaultKernelName": "csharp",
    "items": [
     {
      "aliases": [],
      "name": "csharp"
     }
    ]
   }
  }
 },
 "nbformat": 4,
 "nbformat_minor": 5
}
