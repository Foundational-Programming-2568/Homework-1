{
 "cells": [
  {
   "cell_type": "code",
   "execution_count": null,
   "id": "f80a1763",
   "metadata": {
    "polyglot_notebook": {
     "kernelName": "csharp"
    }
   },
   "outputs": [],
   "source": [
    "// นับเลข 1-100 และแสดงเลขตามเงื่อนไข\n",
    "\n",
    "// เลขคี่\n",
    "var oddNumbers = new List<int>();\n",
    "for (int i = 1; i <= 100; i++)\n",
    "{\n",
    "    if (i % 2 == 1)\n",
    "        oddNumbers.Add(i);\n",
    "}\n",
    "Console.WriteLine(\"เลขคี่ 1-100: \" + string.Join(\", \", oddNumbers));\n",
    "\n",
    "// เลขคู่\n",
    "var evenNumbers = new List<int>();\n",
    "for (int i = 1; i <= 100; i++)\n",
    "{\n",
    "    if (i % 2 == 0)\n",
    "        evenNumbers.Add(i);\n",
    "}\n",
    "Console.WriteLine(\"เลขคู่ 1-100: \" + string.Join(\", \", evenNumbers));\n",
    "\n",
    "// เลขจำนวนเฉพาะ\n",
    "bool IsPrime(int n)\n",
    "{\n",
    "    if (n < 2) return false;\n",
    "    for (int j = 2; j * j <= n; j++)\n",
    "    {\n",
    "        if (n % j == 0) return false;\n",
    "    }\n",
    "    return true;\n",
    "}\n",
    "\n",
    "var primeNumbers = new List<int>();\n",
    "for (int i = 1; i <= 100; i++)\n",
    "{\n",
    "    if (IsPrime(i))\n",
    "        primeNumbers.Add(i);\n",
    "}\n",
    "Console.WriteLine(\"เลขจำนวนเฉพาะ 1-100: \" + string.Join(\", \", primeNumbers));"
   ]
  },
  {
   "cell_type": "markdown",
   "id": "b28473b4",
   "metadata": {},
   "source": [
    "#nattawan"
   ]
  },
  {
   "cell_type": "markdown",
   "id": "f068fb94",
   "metadata": {},
   "source": [
    "using System;\n",
    "\n",
    "Console.WriteLine(\"กรุณาป้อนอายุของคุณ:\");\n",
    "\n",
    "// รับค่าอายุจากคีย์บอร์ด\n",
    "string? input = Console.ReadLine();\n",
    "\n",
    "// ตรวจสอบว่าสามารถแปลงเป็นตัวเลขได้หรือไม่\n",
    "if (int.TryParse(input, out int age))\n",
    "{\n",
    "    // ใช้ if-else if-else เพื่อจำแนกช่วงวัย\n",
    "    if (age >= 1 && age <= 12)\n",
    "    {\n",
    "        Console.WriteLine(\"เด็ก\");\n",
    "    }\n",
    "    else if (age >= 13 && age <= 19)\n",
    "    {\n",
    "        Console.WriteLine(\"วัยรุ่น\");\n",
    "    }\n",
    "    else if (age >= 20 && age <= 50)\n",
    "    {\n",
    "        Console.WriteLine(\"วัยผู้ใหญ่\");\n",
    "    }\n",
    "    else if (age >= 51)\n",
    "    {\n",
    "        Console.WriteLine(\"วัยชรา\");\n",
    "    }\n",
    "    else\n",
    "    {\n",
    "        Console.WriteLine(\"อายุไม่ถูกต้อง (ต้องเป็นตัวเลขจำนวนเต็มบวก)\");\n",
    "    }\n",
    "}\n",
    "else\n",
    "{\n",
    "    Console.WriteLine(\"อินพุตไม่ถูกต้อง กรุณาป้อนตัวเลขเท่านั้น\");\n",
    "}"
   ]
  },
  {
   "attachments": {
    "image.png": {
     "image/png": "[encoded data removed]"
    }
   },
   "cell_type": "markdown",
   "id": "48f7e854",
   "metadata": {},
   "source": [
    "![image.png](attachment:image.png)"
   ]
  },
  {
   "cell_type": "code",
   "execution_count": null,
   "id": "bc73ffac",
   "metadata": {
    "polyglot_notebook": {
     "kernelName": "csharp"
    }
   },
   "outputs": [
    {
     "name": "stdout",
     "output_type": "stream",
     "text": [
      "เลขคี่ 1-100: 1, 3, 5, 7, 9, 11, 13, 15, 17, 19, 21, 23, 25, 27, 29, 31, 33, 35, 37, 39, 41, 43, 45, 47, 49, 51, 53, 55, 57, 59, 61, 63, 65, 67, 69, 71, 73, 75, 77, 79, 81, 83, 85, 87, 89, 91, 93, 95, 97, 99\n",
      "เลขคู่ 1-100: 2, 4, 6, 8, 10, 12, 14, 16, 18, 20, 22, 24, 26, 28, 30, 32, 34, 36, 38, 40, 42, 44, 46, 48, 50, 52, 54, 56, 58, 60, 62, 64, 66, 68, 70, 72, 74, 76, 78, 80, 82, 84, 86, 88, 90, 92, 94, 96, 98, 100\n",
      "เลขจำนวนเฉพาะ 1-100: 2, 3, 5, 7, 11, 13, 17, 19, 23, 29, 31, 37, 41, 43, 47, 53, 59, 61, 67, 71, 73, 79, 83, 89, 97\n"
     ]
    }
   ],
   "source": [
    "// นับเลข 1-100 และแสดงเลขตามเงื่อนไข\n",
    "\n",
    "// เลขคี่\n",
    "var oddNumbers = new List<int>();\n",
    "for (int i = 1; i <= 100; i++)\n",
    "{\n",
    "    if (i % 2 == 1)\n",
    "        oddNumbers.Add(i);\n",
    "}\n",
    "Console.WriteLine(\"เลขคี่ 1-100: \" + string.Join(\", \", oddNumbers));\n",
    "\n",
    "// เลขคู่\n",
    "var evenNumbers = new List<int>();\n",
    "for (int i = 1; i <= 100; i++)\n",
    "{\n",
    "    if (i % 2 == 0)\n",
    "        evenNumbers.Add(i);\n",
    "}\n",
    "Console.WriteLine(\"เลขคู่ 1-100: \" + string.Join(\", \", evenNumbers));\n",
    "\n",
    "// เลขจำนวนเฉพาะ\n",
    "bool IsPrime(int n)\n",
    "{\n",
    "    if (n < 2) return false;\n",
    "    for (int j = 2; j * j <= n; j++)\n",
    "    {\n",
    "        if (n % j == 0) return false;\n",
    "    }\n",
    "    return true;\n",
    "}\n",
    "\n",
    "var primeNumbers = new List<int>();\n",
    "for (int i = 1; i <= 100; i++)\n",
    "{\n",
    "    if (IsPrime(i))\n",
    "        primeNumbers.Add(i);\n",
    "}\n",
    "Console.WriteLine(\"เลขจำนวนเฉพาะ 1-100: \" + string.Join(\", \", primeNumbers));"
   ]
  }
 ],
 "metadata": {
  "kernelspec": {
   "display_name": ".NET (C#)",
   "language": "C#",
   "name": ".net-csharp"
  },
  "polyglot_notebook": {
   "kernelInfo": {
    "defaultKernelName": "csharp",
    "items": [
     {
      "aliases": [],
      "languageName": "csharp",
      "name": "csharp"
     }
    ]
   }
  }
 },
 "nbformat": 4,
 "nbformat_minor": 5
}
