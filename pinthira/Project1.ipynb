{
 "cells": [
  {
   "cell_type": "code",
   "execution_count": null,
   "id": "016f11b4",
   "metadata": {
    "polyglot_notebook": {
     "kernelName": "csharp"
    }
   },
   "outputs": [
    {
     "name": "stdout",
     "output_type": "stream",
     "text": [
      "เลขคี่ 1-100:\n",
      "1, 3, 5, 7, 9, 11, 13, 15, 17, 19, 21, 23, 25, 27, 29, 31, 33, 35, 37, 39, 41, 43, 45, 47, 49, 51, 53, 55, 57, 59, 61, 63, 65, 67, 69, 71, 73, 75, 77, 79, 81, 83, 85, 87, 89, 91, 93, 95, 97, 99\n",
      "\n",
      "เลขคู่ 1-100:\n",
      "2, 4, 6, 8, 10, 12, 14, 16, 18, 20, 22, 24, 26, 28, 30, 32, 34, 36, 38, 40, 42, 44, 46, 48, 50, 52, 54, 56, 58, 60, 62, 64, 66, 68, 70, 72, 74, 76, 78, 80, 82, 84, 86, 88, 90, 92, 94, 96, 98, 100\n",
      "\n",
      "เลขจำนวนเฉพาะ 1-100:\n",
      "2, 3, 5, 7, 11, 13, 17, 19, 23, 29, 31, 37, 41, 43, 47, 53, 59, 61, 67, 71, 73, 79, 83, 89, 97\n"
     ]
    }
   ],
   "source": [
    "// นับเลข 1 – 100 และแสดงเลขคี่, เลขคู่, เลขจำนวนเฉพาะ\n",
    "\n",
    "// แสดงเลขคี่\n",
    "var oddNumbers = Enumerable.Range(1, 100).Where(n => n % 2 != 0).ToList();\n",
    "Console.WriteLine(\"เลขคี่ 1-100:\");\n",
    "Console.WriteLine(string.Join(\", \", oddNumbers));\n",
    "\n",
    "// แสดงเลขคู่\n",
    "var evenNumbers = Enumerable.Range(1, 100).Where(n => n % 2 == 0).ToList();\n",
    "Console.WriteLine(\"\\nเลขคู่ 1-100:\");\n",
    "Console.WriteLine(string.Join(\", \", evenNumbers));\n",
    "\n",
    "// แสดงเลขจำนวนเฉพาะ\n",
    "bool IsPrime(int n)\n",
    "{\n",
    "    if (n < 2) return false;\n",
    "    for (int i = 2; i <= Math.Sqrt(n); i++)\n",
    "        if (n % i == 0) return false;\n",
    "    return true;\n",
    "}\n",
    "var primeNumbers = Enumerable.Range(1, 100).Where(IsPrime).ToList();\n",
    "Console.WriteLine(\"\\nเลขจำนวนเฉพาะ 1-100:\");\n",
    "Console.WriteLine(string.Join(\", \", primeNumbers));"
   ]
  }
 ],
 "metadata": {
  "kernelspec": {
   "display_name": ".NET (C#)",
   "language": "C#",
   "name": ".net-csharp"
  },
  "polyglot_notebook": {
   "kernelInfo": {
    "defaultKernelName": "csharp",
    "items": [
     {
      "aliases": [],
      "languageName": "csharp",
      "name": "csharp"
     }
    ]
   }
  }
 },
 "nbformat": 4,
 "nbformat_minor": 5
}
