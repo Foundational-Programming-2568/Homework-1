{
 "cells": [
  {
   "cell_type": "code",
   "execution_count": null,
   "id": "be9e2d3f",
   "metadata": {
    "polyglot_notebook": {
     "kernelName": "csharp"
    }
   },
   "outputs": [
    {
     "name": "stdout",
     "output_type": "stream",
     "text": [
      "นับเลข 1 ถึง 100:\n",
      "1, 2, 3, 4, 5, 6, 7, 8, 9, 10, 11, 12, 13, 14, 15, 16, 17, 18, 19, 20, 21, 22, 23, 24, 25, 26, 27, 28, 29, 30, 31, 32, 33, 34, 35, 36, 37, 38, 39, 40, 41, 42, 43, 44, 45, 46, 47, 48, 49, 50, 51, 52, 53, 54, 55, 56, 57, 58, 59, 60, 61, 62, 63, 64, 65, 66, 67, 68, 69, 70, 71, 72, 73, 74, 75, 76, 77, 78, 79, 80, 81, 82, 83, 84, 85, 86, 87, 88, 89, 90, 91, 92, 93, 94, 95, 96, 97, 98, 99, 100\n",
      "\n",
      "เลขคี่:\n",
      "1, 3, 5, 7, 9, 11, 13, 15, 17, 19, 21, 23, 25, 27, 29, 31, 33, 35, 37, 39, 41, 43, 45, 47, 49, 51, 53, 55, 57, 59, 61, 63, 65, 67, 69, 71, 73, 75, 77, 79, 81, 83, 85, 87, 89, 91, 93, 95, 97, 99\n",
      "\n",
      "เลขคู่:\n",
      "2, 4, 6, 8, 10, 12, 14, 16, 18, 20, 22, 24, 26, 28, 30, 32, 34, 36, 38, 40, 42, 44, 46, 48, 50, 52, 54, 56, 58, 60, 62, 64, 66, 68, 70, 72, 74, 76, 78, 80, 82, 84, 86, 88, 90, 92, 94, 96, 98, 100\n",
      "\n",
      "จำนวนเฉพาะ:\n",
      "2, 3, 5, 7, 11, 13, 17, 19, 23, 29, 31, 37, 41, 43, 47, 53, 59, 61, 67, 71, 73, 79, 83, 89, 97\n"
     ]
    }
   ],
   "source": [
    "// ฟังก์ชันตรวจสอบจำนวนเฉพาะ\n",
    "bool IsPrime(int number)\n",
    "{\n",
    "    if (number <= 1) return false; // 0 และ 1 ไม่ใช่จำนวนเฉพาะ\n",
    "    if (number == 2) return true; // 2 เป็นจำนวนเฉพาะตัวเดียวที่เป็นเลขคู่\n",
    "    if (number % 2 == 0) return false; // เลขคู่ที่มากกว่า 2 ไม่ใช่จำนวนเฉพาะ (หาร 2 ลงตัว)\n",
    "\n",
    "    int boundary = (int)Math.Sqrt(number); // คำนวณรากที่สองของ number (ใช้สำหรับจำกัดช่วงของตัวหาร)\n",
    "    for (int i = 3; i <= boundary; i += 2) // ตรวจเฉพาะเลขคี่ตั้งแต่ 3 ขึ้นไป\n",
    "    {\n",
    "        if (number % i == 0) return false; // ถ้าเจอตัวหารลงตัว แสดงว่าไม่ใช่จำนวนเฉพาะ\n",
    "    }\n",
    "\n",
    "    return true; // ถ้าไม่หารลงตัวเลย แสดงว่าเป็นจำนวนเฉพาะ\n",
    "}\n",
    "\n",
    "// สร้างรายการเก็บตัวเลขแต่ละประเภท\n",
    "var allNumbers = new List<int>();\n",
    "var oddNumbers = new List<int>();\n",
    "var evenNumbers = new List<int>();\n",
    "var primeNumbers = new List<int>();\n",
    "\n",
    "// วนลูปตั้งแต่ 1 ถึง 100 และจัดหมวดหมู่\n",
    "for (int i = 1; i <= 100; i++)\n",
    "{\n",
    "    allNumbers.Add(i);  // เก็บเลขทั้งหมด\n",
    "\n",
    "    if (i % 2 == 0)\n",
    "        evenNumbers.Add(i); // ถ้า i หาร 2 ลงตัว → เป็นเลขคู่\n",
    "    else\n",
    "        oddNumbers.Add(i); // ไม่ลงตัว → เป็นเลขคี่\n",
    "\n",
    "    if (IsPrime(i))\n",
    "        primeNumbers.Add(i); // ถ้า IsPrime คืน true → เก็บลง primeNumbers\n",
    "}\n",
    "\n",
    "// แสดงผลลัพธ์\n",
    "Console.WriteLine(\"นับเลข 1 ถึง 100:\");\n",
    "Console.WriteLine(string.Join(\", \", allNumbers));\n",
    "\n",
    "Console.WriteLine(\"\\nเลขคี่:\");\n",
    "Console.WriteLine(string.Join(\", \", oddNumbers));\n",
    "\n",
    "Console.WriteLine(\"\\nเลขคู่:\");\n",
    "Console.WriteLine(string.Join(\", \", evenNumbers));\n",
    "\n",
    "Console.WriteLine(\"\\nจำนวนเฉพาะ:\");\n",
    "Console.WriteLine(string.Join(\", \", primeNumbers));\n"
   ]
  }
 ],
 "metadata": {
  "kernelspec": {
   "display_name": ".NET (C#)",
   "language": "C#",
   "name": ".net-csharp"
  },
  "polyglot_notebook": {
   "kernelInfo": {
    "defaultKernelName": "csharp",
    "items": [
     {
      "aliases": [],
      "languageName": "csharp",
      "name": "csharp"
     }
    ]
   }
  }
 },
 "nbformat": 4,
 "nbformat_minor": 5
}
