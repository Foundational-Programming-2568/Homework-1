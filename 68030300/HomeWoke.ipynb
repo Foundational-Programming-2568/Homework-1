{
 "cells": [
  {
   "cell_type": "markdown",
   "id": "18474854",
   "metadata": {},
   "source": [
    "# แบบฝึกหัดที่ 1\n",
    "## ข้อ 1 ให้ใช้ AI สร้างโปรแกรมที่มีความสามารถต่อไปนี้ ใน Polyglot notebook\n",
    "- นับเลข 1 – 100\n",
    "  -  แสดงเฉพาะเลขคี่\n",
    "  -  แสดงเฉพาะเลขคู่\n",
    "  -  แสดงเฉพาะเลขจำนวนเฉพาะ"
   ]
  },
  {
   "cell_type": "code",
   "execution_count": null,
   "id": "6e6131c2",
   "metadata": {
    "vscode": {
     "languageId": "polyglot-notebook"
    }
   },
   "outputs": [],
   "source": [
    "// นับเลข 1 – 100 และแสดงเลขคี่, เลขคู่, เลขจำนวนเฉพาะ\n",
    "\n",
    "// แสดงเลขคี่\n",
    "Console.WriteLine(\"เลขคี่ 1-100:\");\n",
    "for (int i = 1; i <= 100; i++)\n",
    "{\n",
    "    if (i % 2 != 0)\n",
    "    {\n",
    "        Console.Write(i + \" \");\n",
    "    }\n",
    "}\n",
    "Console.WriteLine(\"\\n\");\n",
    "\n",
    "// แสดงเลขคู่\n",
    "Console.WriteLine(\"เลขคู่ 1-100:\");\n",
    "for (int i = 1; i <= 100; i++)\n",
    "{\n",
    "    if (i % 2 == 0)\n",
    "    {\n",
    "        Console.Write(i + \" \");\n",
    "    }\n",
    "}\n",
    "Console.WriteLine(\"\\n\");\n",
    "\n",
    "// แสดงเลขจำนวนเฉพาะ\n",
    "Console.WriteLine(\"เลขจำนวนเฉพาะ 1-100:\");\n",
    "for (int i = 2; i <= 100; i++)\n",
    "{\n",
    "    bool isPrime = true;\n",
    "    for (int j = 2; j <= Math.Sqrt(i); j++)\n",
    "    {\n",
    "        if (i % j == 0)\n",
    "        {\n",
    "            isPrime = false;\n",
    "            break;\n",
    "        }\n",
    "    }\n",
    "    if (isPrime)\n",
    "    {\n",
    "        Console.Write(i + \" \");\n",
    "    }\n",
    "}\n",
    "Console.WriteLine();"
   ]
  },
  {
   "cell_type": "markdown",
   "id": "e29ec011",
   "metadata": {},
   "source": [
    "## ข้อ 2 ให้ใช้ AI สร้างโปรแกรมที่มีความสามารถต่อไปนี้ ใน Polyglot notebook\n",
    "- รับค่าอายุทางคีย์บอร์ด\n",
    "  - 1 - 12 เด็ก\n",
    "  - 13 – 19 วัยรุ่น\n",
    "  - 20 – 50 วัยผู้ใหญ่\n",
    "  - 51 -  วัยชรา "
   ]
  },
  {
   "cell_type": "code",
   "execution_count": null,
   "id": "2d874b21",
   "metadata": {
    "vscode": {
     "languageId": "polyglot-notebook"
    }
   },
   "outputs": [],
   "source": [
    "// นับเลข 1 – 100 และแสดงเลขคี่, เลขคู่, เลขจำนวนเฉพาะ\n",
    "\n",
    "// แสดงเลขคี่\n",
    "Console.WriteLine(\"เลขคี่ 1-100:\");\n",
    "for (int i = 1; i <= 100; i++)\n",
    "{\n",
    "    if (i % 2 != 0)\n",
    "    {\n",
    "        Console.Write(i + \" \");\n",
    "    }\n",
    "}\n",
    "Console.WriteLine(\"\\n\");\n",
    "\n",
    "// แสดงเลขคู่\n",
    "Console.WriteLine(\"เลขคู่ 1-100:\");\n",
    "for (int i = 1; i <= 100; i++)\n",
    "{\n",
    "    if (i % 2 == 0)\n",
    "    {\n",
    "        Console.Write(i + \" \");\n",
    "    }\n",
    "}\n",
    "Console.WriteLine(\"\\n\");\n",
    "\n",
    "// แสดงเลขจำนวนเฉพาะ\n",
    "Console.WriteLine(\"เลขจำนวนเฉพาะ 1-100:\");\n",
    "for (int i = 2; i <= 100; i++)\n",
    "{\n",
    "    bool isPrime = true;\n",
    "    for (int j = 2; j <= Math.Sqrt(i); j++)\n",
    "    {\n",
    "        if (i % j == 0)\n",
    "        {\n",
    "            isPrime = false;\n",
    "            break;\n",
    "        }\n",
    "    }\n",
    "    if (isPrime)\n",
    "    {\n",
    "        Console.Write(i + \" \");\n",
    "    }\n",
    "}\n",
    "Console.WriteLine();"
   ]
  }
 ],
 "metadata": {
  "language_info": {
   "name": "python"
  }
 },
 "nbformat": 4,
 "nbformat_minor": 5
}
