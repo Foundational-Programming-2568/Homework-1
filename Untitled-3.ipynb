{
 "cells": [
  {
   "cell_type": "markdown",
   "id": "47cbcdf1",
   "metadata": {},
   "source": [
    "## ข้อ2.รับค่าอายุ\n",
    "## -1-12เด็ก\n",
    "## -13-19วัยรุ่น\n",
    "## -20-50วัยผู้ใหญ่\n",
    "## -51-วัยชรา"
   ]
  },
  {
   "cell_type": "code",
   "execution_count": 2,
   "id": "ca7b8f32",
   "metadata": {
    "polyglot_notebook": {
     "kernelName": "csharp"
    }
   },
   "outputs": [
    {
     "name": "stdout",
     "output_type": "stream",
     "text": [
      "กรุณาใส่อายุของคุณ: กรุณาใส่อายุเป็นตัวเลขที่ถูกต้อง\n"
     ]
    }
   ],
   "source": [
    "Console.Write(\"กรุณาใส่อายุของคุณ: \");\n",
    "        string input = Console.ReadLine();\n",
    "\n",
    "        if (int.TryParse(input, out int age))\n",
    "        {\n",
    "            if (age >= 1 && age <= 12)\n",
    "            {\n",
    "                Console.WriteLine(\"คุณเป็นเด็ก\");\n",
    "            }\n",
    "            else if (age >= 13 && age <= 19)\n",
    "            {\n",
    "                Console.WriteLine(\"คุณเป็นวัยรุ่น\");\n",
    "            }\n",
    "            else if (age >= 20 && age <= 50)\n",
    "            {\n",
    "                Console.WriteLine(\"คุณเป็นวัยผู้ใหญ่\");\n",
    "            }\n",
    "            else if (age > 50)\n",
    "            {\n",
    "                Console.WriteLine(\"คุณเป็นวัยชรา\");\n",
    "            }\n",
    "            else\n",
    "            {\n",
    "                Console.WriteLine(\"อายุต้องมากกว่า 0\");\n",
    "            }\n",
    "        }\n",
    "        else\n",
    "        {\n",
    "            Console.WriteLine(\"กรุณาใส่อายุเป็นตัวเลขที่ถูกต้อง\");\n",
    "        }"
   ]
  }
 ],
 "metadata": {
  "kernelspec": {
   "display_name": ".NET (C#)",
   "language": "C#",
   "name": ".net-csharp"
  },
  "polyglot_notebook": {
   "kernelInfo": {
    "defaultKernelName": "csharp",
    "items": [
     {
      "aliases": [],
      "languageName": "csharp",
      "name": "csharp"
     }
    ]
   }
  }
 },
 "nbformat": 4,
 "nbformat_minor": 5
}
