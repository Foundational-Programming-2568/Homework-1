{
 "cells": [
  {
   "cell_type": "markdown",
   "id": "c7b24840",
   "metadata": {},
   "source": [
    "ข้อ 2 ให้ใช้ AI สร้างโปรแกรมที่มีความสามารถต่อไปนี้ ใน Polyglot notebook"
   ]
  },
  {
   "cell_type": "code",
   "execution_count": null,
   "id": "79c05438",
   "metadata": {
    "polyglot_notebook": {
     "kernelName": "csharp"
    }
   },
   "outputs": [
    {
     "name": "stdout",
     "output_type": "stream",
     "text": [
      "อายุ 25: คุณอยู่ในช่วงวัย: วัยผู้ใหญ่\n",
      "อายุ 2: คุณอยู่ในช่วงวัย: เด็ก\n",
      "อายุ 60: คุณอยู่ในช่วงวัย: วัยชรา\n",
      "อายุ 18: คุณอยู่ในช่วงวัย: วัยรุ่น\n",
      "อายุ 34: คุณอยู่ในช่วงวัย: วัยผู้ใหญ่\n",
      "อายุ 47: คุณอยู่ในช่วงวัย: วัยผู้ใหญ่\n"
     ]
    }
   ],
   "source": [
    "int[] ages = { 25, 2, 60,18,34,47 }; // เปลี่ยนอายุตรงนี้ตามต้องการ\n",
    "\n",
    "foreach (int age in ages)\n",
    "{\n",
    "    Console.Write($\"อายุ {age}: \");\n",
    "\n",
    "    if (age >= 1 && age <= 12)\n",
    "        Console.WriteLine(\"คุณอยู่ในช่วงวัย: เด็ก\");\n",
    "    else if (age >= 13 && age <= 19)\n",
    "        Console.WriteLine(\"คุณอยู่ในช่วงวัย: วัยรุ่น\");\n",
    "    else if (age >= 20 && age <= 50)\n",
    "        Console.WriteLine(\"คุณอยู่ในช่วงวัย: วัยผู้ใหญ่\");\n",
    "    else if (age >= 51)\n",
    "        Console.WriteLine(\"คุณอยู่ในช่วงวัย: วัยชรา\");\n",
    "    else\n",
    "        Console.WriteLine(\"อายุต้องมากกว่า 0\");\n",
    "}"
   ]
  }
 ],
 "metadata": {
  "kernelspec": {
   "display_name": ".NET (C#)",
   "language": "C#",
   "name": ".net-csharp"
  },
  "polyglot_notebook": {
   "kernelInfo": {
    "defaultKernelName": "csharp",
    "items": [
     {
      "aliases": [],
      "languageName": "csharp",
      "name": "csharp"
     }
    ]
   }
  }
 },
 "nbformat": 4,
 "nbformat_minor": 5
}
